{
 "cells": [
  {
   "cell_type": "code",
   "execution_count": 2,
   "id": "64a82c15-bdfe-41fe-94ea-5ad07c6d8898",
   "metadata": {},
   "outputs": [
    {
     "name": "stdout",
     "output_type": "stream",
     "text": [
      "['REF_DATE', 'GEO', 'DGUID', 'Wages', 'Type of work', 'North American Industry Classification System (NAICS)', 'Gender', 'Age group', 'UOM', 'UOM_ID', 'SCALAR_FACTOR', 'SCALAR_ID', 'VECTOR', 'COORDINATE', 'VALUE', 'STATUS', 'SYMBOL', 'TERMINATED', 'DECIMALS']\n"
     ]
    }
   ],
   "source": [
    "import pandas as pd\n",
    "import re\n",
    "from pathlib import Path\n",
    "\n",
    "raw_path = \"LFS2/14100064.csv\"\n",
    "out_path = \"LFS2/LFS_wages_sex_age_immigrant_2015_2024_clean.csv\"\n",
    "Path(\"LFS2/clean\").mkdir(parents=True, exist_ok=True)\n",
    "\n",
    "df = pd.read_csv(raw_path, low_memory=False)\n",
    "print(df.columns.tolist())\n",
    "\n",
    "\n"
   ]
  },
  {
   "cell_type": "code",
   "execution_count": null,
   "id": "da3a79de-b69e-421c-ba35-09c4c9498686",
   "metadata": {},
   "outputs": [],
   "source": []
  },
  {
   "cell_type": "code",
   "execution_count": null,
   "id": "0a4000a3-e3db-4625-a1af-99b1c1ef47fe",
   "metadata": {},
   "outputs": [],
   "source": [
    "\n",
    "# Load\n",
    "df = pd.read_csv(raw_path, low_memory=False)\n",
    "\n",
    "# Identify key columns\n",
    "date_col = \"REF_DATE\"\n",
    "geo_col = \"GEO\"\n",
    "char_col = \"Characteristics\"\n",
    "val_col = \"VALUE\"\n",
    "\n",
    "# Convert to year\n",
    "df[date_col] = pd.to_datetime(df[date_col], errors=\"coerce\")\n",
    "df[\"year\"] = df[date_col].dt.year\n",
    "df = df[(df[\"year\"] >= 2015) & (df[\"year\"] <= 2024)]\n",
    "\n",
    "# Province map\n",
    "province_map = {\n",
    "    \"Canada\": \"National\",\n",
    "    \"Newfoundland and Labrador\": \"NL\", \"Prince Edward Island\": \"PE\",\n",
    "    \"Nova Scotia\": \"NS\", \"New Brunswick\": \"NB\", \"Quebec\": \"QC\",\n",
    "    \"Ontario\": \"ON\", \"Manitoba\": \"MB\", \"Saskatchewan\": \"SK\",\n",
    "    \"Alberta\": \"AB\", \"British Columbia\": \"BC\",\n",
    "    \"Yukon\": \"YT\", \"Northwest Territories\": \"NT\", \"Nunavut\": \"NU\",\n",
    "}\n",
    "df[\"province\"] = df[geo_col].replace(province_map)\n",
    "\n",
    "# Ensure numeric wages\n",
    "df[\"wage_hourly\"] = pd.to_numeric(df[val_col], errors=\"coerce\")\n",
    "\n",
    "# ---- Split Characteristics ----\n",
    "def extract_sex(x):\n",
    "    if \"men\" in x.lower(): return \"Men\"\n",
    "    if \"women\" in x.lower(): return \"Women\"\n",
    "    if \"sexes\" in x.lower(): return \"Both\"\n",
    "    return None\n",
    "\n",
    "def extract_age(x):\n",
    "    if re.search(r\"15.*24\", x): return \"15-24\"\n",
    "    if re.search(r\"25.*54\", x): return \"25-54\"\n",
    "    if re.search(r\"55\", x): return \"55+\"\n",
    "    if \"15 years and over\" in x: return \"15+\"\n",
    "    return None\n",
    "\n",
    "def extract_immigrant(x):\n",
    "    if \"immigrant\" in x.lower(): return \"Immigrants\"\n",
    "    if \"born in canada\" in x.lower(): return \"Born in Canada\"\n",
    "    return None\n",
    "\n",
    "df[\"sex\"] = df[char_col].map(extract_sex)\n",
    "df[\"age_group\"] = df[char_col].map(extract_age)\n",
    "df[\"immigrant_status\"] = df[char_col].map(extract_immigrant)\n",
    "\n",
    "# Keep only rows where at least one dimension was captured\n",
    "df = df.dropna(subset=[\"sex\",\"age_group\",\"immigrant_status\"], how=\"all\")\n",
    "\n",
    "# Aggregate monthly → annual mean\n",
    "annual = (df.groupby([\"year\",\"province\",\"sex\",\"age_group\",\"immigrant_status\"])\n",
    "            [\"wage_hourly\"].mean().reset_index())\n",
    "\n",
    "# Save\n",
    "annual.to_csv(out_path, index=False)\n",
    "print(f\"[SAVED] {out_path}\")\n",
    "print(annual.head())\n"
   ]
  },
  {
   "cell_type": "code",
   "execution_count": null,
   "id": "ca58f207-3745-4b56-be38-410d2e131363",
   "metadata": {},
   "outputs": [],
   "source": []
  },
  {
   "cell_type": "code",
   "execution_count": null,
   "id": "1dfb20df-3ccd-4e3d-a75d-502baa8e5c6e",
   "metadata": {},
   "outputs": [],
   "source": []
  },
  {
   "cell_type": "code",
   "execution_count": null,
   "id": "feb05586-29e9-4167-9e6b-80cc7a53fed0",
   "metadata": {},
   "outputs": [],
   "source": []
  },
  {
   "cell_type": "code",
   "execution_count": null,
   "id": "477fdc22-cb83-42ca-9806-205121fa49aa",
   "metadata": {},
   "outputs": [],
   "source": []
  },
  {
   "cell_type": "code",
   "execution_count": null,
   "id": "c2da8d50-a2c2-4063-90d1-728edfe8c90b",
   "metadata": {},
   "outputs": [],
   "source": []
  }
 ],
 "metadata": {
  "kernelspec": {
   "display_name": "Python 3 (ipykernel)",
   "language": "python",
   "name": "python3"
  },
  "language_info": {
   "codemirror_mode": {
    "name": "ipython",
    "version": 3
   },
   "file_extension": ".py",
   "mimetype": "text/x-python",
   "name": "python",
   "nbconvert_exporter": "python",
   "pygments_lexer": "ipython3",
   "version": "3.11.5"
  }
 },
 "nbformat": 4,
 "nbformat_minor": 5
}
